{
 "cells": [
  {
   "cell_type": "code",
   "execution_count": 1,
   "metadata": {},
   "outputs": [],
   "source": [
    "import numpy as np\n",
    "import sympy as sy\n",
    "import matplotlib.pyplot as plt\n",
    "from openmm import unit"
   ]
  },
  {
   "cell_type": "markdown",
   "metadata": {},
   "source": [
    "# Harmonic well potential\n",
    "\n",
    "The harmonic well potential is described by the following expression:\n",
    "\n",
    "$$\n",
    "f(x)=\\frac{1}{2} k \\left(x^2 + y^2 + z^2 \\right)\n",
    "$$ (harmonic-well-potential)\n",
    "\n",
    "Where $k$ is the only parameter and represents the stiffness of the harmonic potential -or the stiffness of the harmonic spring described by the hookes' law-. Notice that the potential for potential dimensions $Y$ and $Z$, has the same shape. In this way we have a three dimensional harmonic well. But let's see here only the proyection over a single dimension $X$ since $Y$ and $Z$ are decorrelated, and there by will behave as $X$."
   ]
  },
  {
   "cell_type": "code",
   "execution_count": 2,
   "metadata": {},
   "outputs": [],
   "source": [
    "def harmonic_well(x,k):\n",
    "    return 0.5*k*x**2"
   ]
  },
  {
   "cell_type": "code",
   "execution_count": 3,
   "metadata": {},
   "outputs": [
    {
     "data": {
      "image/png": "[encoded data removed]",
      "text/plain": [
       "<Figure size 432x288 with 1 Axes>"
      ]
     },
     "metadata": {
      "needs_background": "light"
     },
     "output_type": "display_data"
    }
   ],
   "source": [
    "k=5.0 * unit.kilocalories_per_mole/ unit.nanometers**2 # stiffness of the harmonic potential\n",
    "\n",
    "x_serie = np.arange(-5., 5., 0.05) * unit.nanometers\n",
    "\n",
    "plt.plot(x_serie, harmonic_well(x_serie, k), 'r-')\n",
    "plt.ylim(-1,5)\n",
    "plt.xlim(-2,2)\n",
    "plt.grid()\n",
    "plt.xlabel(\"X ({})\".format(unit.nanometers))\n",
    "plt.ylabel(\"Energy ({})\".format(unit.kilocalories_per_mole))\n",
    "plt.title(\"Harmonic Well\")\n",
    "plt.show()"
   ]
  },
  {
   "cell_type": "markdown",
   "metadata": {},
   "source": [
    "Different values of $k$ can be tested to graphically see how this parameter accounts for the openness of the well's arms. Or, as it is described below, the period of oscillations of a particle of mass $m$ in a newtonian dynamics."
   ]
  },
  {
   "cell_type": "markdown",
   "metadata": {},
   "source": [
    "The hooks' law describes the force suffered by a mass attached to an ideal spring as:\n",
    "\n",
    "$$\n",
    "F(x) = -k(x-x_{0})\n",
    "$$ (hooks_law)\n",
    "\n",
    "Where $k$ is the stiffness of the spring and $x_{0}$ is the equilibrium position. Now, since the force is minus the gradient of the potential energy $V(x)$,\n",
    "\n",
    "$$\n",
    "F(x) = -\\frac{d V(x)}{dx},\n",
    "$$ (grad_potential)\n",
    "\n",
    "we can proof that the spring force is the result of the first harmonic potential derivative:\n",
    "\n",
    "$$\n",
    "V(x) = \\frac{1}{2} k (x-x_{0})^{2}\n",
    "$$ (x_potential)\n",
    "\n",
    "And the angular frequency of oscillations of a spring, or a particle goberned by the former potential, is:\n",
    "\n",
    "$$\n",
    "\\omega = \\sqrt{\\frac{k}{m}}\n",
    "$$ (omega)\n",
    "\n",
    "Where $m$ is the mass of the particle. This way the potential can also be written as:\n",
    "\n",
    "$$\n",
    "V(x) = \\frac{1}{2} k (x-x_{0})^{2} = \\frac{1}{2} m \\omega^{2} (x-x_{0})^{2}\n",
    "$$ (x_potential_2)\n",
    "\n",
    "Finnally, the time period of these oscillations are immediately computed from the mass of the particle, $m$, and the stiffness parameter $k$. Given that by definition:\n",
    "\n",
    "$$\n",
    "T = 2\\pi / \\omega\n",
    "$$ (period)\n",
    "\n",
    "Then:\n",
    "\n",
    "$$\n",
    "T = 2\\pi \\sqrt{\\frac{m}{k}}\n",
    "$$ (period_2)"
   ]
  }
 ],
 "metadata": {
  "kernelspec": {
   "display_name": "Python 3 (ipykernel)",
   "language": "python",
   "name": "python3"
  },
  "language_info": {
   "codemirror_mode": {
    "name": "ipython",
    "version": 3
   },
   "file_extension": ".py",
   "mimetype": "text/x-python",
   "name": "python",
   "nbconvert_exporter": "python",
   "pygments_lexer": "ipython3",
   "version": "3.7.12"
  }
 },
 "nbformat": 4,
 "nbformat_minor": 4
}
