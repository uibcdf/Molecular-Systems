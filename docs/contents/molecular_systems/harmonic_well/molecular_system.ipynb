{
 "cells": [
  {
   "cell_type": "markdown",
   "id": "e8883d5a-0a53-486c-aa6c-6d2a35de58ae",
   "metadata": {},
   "source": [
    "# Molecular system"
   ]
  },
  {
   "cell_type": "markdown",
   "id": "e014a6ec-d3f3-4b38-983a-df01c35a7fdf",
   "metadata": {},
   "source": [
    "## With OpenMM from scratch\n",
    "\n",
    "```python\n",
    "mport openmm as mm\n",
    "import openmm.app as app\n",
    "import openmm.unit as unit\n",
    "import numpy as np\n",
    "\n",
    "# Parameters\n",
    "\n",
    "n_particles = 1\n",
    "mass = 32.0 * unit.amu\n",
    "k = 5.0 * unit.kilocalories_per_mole/unit.nanometers**2\n",
    "\n",
    "# OpenMM topology\n",
    "\n",
    "topology = app.Topology()\n",
    "\n",
    "dummy_element = app.Element(0, 'DUM', 'DUM', 0.0 * unit.amu)\n",
    "\n",
    "chain = topology.addChain('A')\n",
    "for ii in range(n_particles):\n",
    "    residue = topology.addResidue('DUM', chain)\n",
    "    atom = topology.addAtom(name='DUM', element= dummy_element, residue=residue)\n",
    "\n",
    "# OpenMM system\n",
    "    \n",
    "system = mm.System()\n",
    "for ii in range(n_particles):\n",
    "    self.system.addParticle(mass)\n",
    "\n",
    "force = mm.CustomExternalForce('A*(x^2+y^2+z^2)')\n",
    "force.addGlobalParameter('A', 0.5*k)\n",
    "for ii in range(n_particles):\n",
    "    force.addParticle(ii, [])\n",
    "_ = system.addForce(force)\n",
    "```"
   ]
  },
  {
   "cell_type": "markdown",
   "id": "6d2225d2-32f5-4629-9c39-dde0d15df0a3",
   "metadata": {},
   "source": [
    "## With this library\n",
    "\n",
    "This test system is fully documented in HarmonicWell class API. Let’s see an example of how to interact with it:"
   ]
  },
  {
   "cell_type": "code",
   "execution_count": 19,
   "id": "e1388f68-fc3b-4130-9816-09f65b6b2fbd",
   "metadata": {},
   "outputs": [],
   "source": [
    "import numpy as np\n",
    "from openmm import unit\n",
    "from matplotlib import pyplot as plt\n",
    "\n",
    "from uibcdf_systems import HarmonicWell\n",
    "\n",
    "molecular_system = HarmonicWell(n_particles = 1, mass = 32 * unit.amu,\n",
    "                                k=5.0 * unit.kilocalories_per_mole/unit.nanometers**2)"
   ]
  },
  {
   "cell_type": "markdown",
   "id": "ac265f73-7f5e-4a60-b5f9-ec2a326026e1",
   "metadata": {},
   "source": [
    "The potential expression and the value of the parameters are stored in potential:"
   ]
  },
  {
   "cell_type": "code",
   "execution_count": 12,
   "id": "6691682c-f1d5-4eef-8a2d-d3b56f0ce082",
   "metadata": {},
   "outputs": [
    {
     "data": {
      "text/latex": [
       "$\\displaystyle 0.5 k \\left(x^{2} + y^{2} + z^{2}\\right)$"
      ],
      "text/plain": [
       "0.5*k*(x**2 + y**2 + z**2)"
      ]
     },
     "execution_count": 12,
     "metadata": {},
     "output_type": "execute_result"
    }
   ],
   "source": [
    "molecular_system.potential_expression"
   ]
  },
  {
   "cell_type": "code",
   "execution_count": 13,
   "id": "2ee3ed55-c2e1-4b1c-981f-663eab07cca3",
   "metadata": {},
   "outputs": [
    {
     "data": {
      "text/plain": [
       "{'n_particles': 1,\n",
       " 'mass': Quantity(value=32, unit=dalton),\n",
       " 'k': Quantity(value=5.0, unit=kilocalorie/(nanometer**2*mole))}"
      ]
     },
     "execution_count": 13,
     "metadata": {},
     "output_type": "execute_result"
    }
   ],
   "source": [
    "molecular_system.parameters"
   ]
  },
  {
   "cell_type": "code",
   "execution_count": 14,
   "id": "3145dce9-6172-4285-bfd9-8da78a4663f3",
   "metadata": {},
   "outputs": [
    {
     "data": {
      "text/plain": [
       "Quantity(value=array([[0., 0., 0.]], dtype=float32), unit=nanometer)"
      ]
     },
     "execution_count": 14,
     "metadata": {},
     "output_type": "execute_result"
    }
   ],
   "source": [
    "molecular_system.coordinates"
   ]
  },
  {
   "cell_type": "code",
   "execution_count": 15,
   "id": "2abc81c7-9dc0-43b6-86de-543db129ae91",
   "metadata": {},
   "outputs": [
    {
     "data": {
      "text/plain": [
       "<Topology; 1 chains, 1 residues, 1 atoms, 0 bonds>"
      ]
     },
     "execution_count": 15,
     "metadata": {},
     "output_type": "execute_result"
    }
   ],
   "source": [
    "molecular_system.topology"
   ]
  },
  {
   "cell_type": "code",
   "execution_count": 16,
   "id": "33b5fd4a-006b-438a-a734-fd3792b2a3f6",
   "metadata": {},
   "outputs": [
    {
     "data": {
      "text/plain": [
       "<openmm.openmm.System; proxy of <Swig Object of type 'OpenMM::System *' at 0x7fd269ac9090> >"
      ]
     },
     "execution_count": 16,
     "metadata": {},
     "output_type": "execute_result"
    }
   ],
   "source": [
    "molecular_system.system"
   ]
  },
  {
   "cell_type": "markdown",
   "id": "b4a1a75b-89e5-4de8-b3d5-903f0fbbd06d",
   "metadata": {},
   "source": [
    "There is a method to evaluate the potential at a given positions:"
   ]
  },
  {
   "cell_type": "code",
   "execution_count": 17,
   "id": "13b2319d-7252-4b97-aa8c-6b4af24dac73",
   "metadata": {},
   "outputs": [
    {
     "data": {
      "text/plain": [
       "Quantity(value=5.625, unit=kilocalorie/mole)"
      ]
     },
     "execution_count": 17,
     "metadata": {},
     "output_type": "execute_result"
    }
   ],
   "source": [
    "molecular_system.evaluate_potential([-1.5, 0.0, 0.0] * unit.nanometers)"
   ]
  },
  {
   "cell_type": "code",
   "execution_count": 20,
   "id": "bbffed98-8ebf-41c9-aaed-e20b7496a892",
   "metadata": {},
   "outputs": [
    {
     "data": {
      "image/png": "[encoded data removed]",
      "text/plain": [
       "<Figure size 432x288 with 1 Axes>"
      ]
     },
     "metadata": {
      "needs_background": "light"
     },
     "output_type": "display_data"
    }
   ],
   "source": [
    "position = np.zeros((200,3), dtype=float) * unit.nanometers\n",
    "position[:,0] = np.linspace(-5., 5., 200) * unit.nanometers\n",
    "\n",
    "plt.plot(position[:,0], molecular_system.evaluate_potential(position) , 'r-')\n",
    "plt.ylim(-1,5)\n",
    "plt.xlim(-2,2)\n",
    "plt.grid()\n",
    "plt.xlabel(\"X ({})\".format(unit.nanometers))\n",
    "plt.ylabel(\"Energy ({})\".format(unit.kilocalories_per_mole))\n",
    "plt.title(\"Harmonic Well\")\n",
    "plt.show()"
   ]
  },
  {
   "cell_type": "code",
   "execution_count": 21,
   "id": "4db870dc-9406-4ae7-a307-434ba6b737ed",
   "metadata": {},
   "outputs": [
    {
     "data": {
      "text/plain": [
       "Quantity(value=7.770948260727904, unit=picosecond)"
      ]
     },
     "execution_count": 21,
     "metadata": {},
     "output_type": "execute_result"
    }
   ],
   "source": [
    "molecular_system.get_oscillations_time_period()"
   ]
  },
  {
   "cell_type": "code",
   "execution_count": 22,
   "id": "9d157add-d029-4677-ad5c-bfdd30c96a15",
   "metadata": {},
   "outputs": [
    {
     "data": {
      "text/plain": [
       "Quantity(value=0.34530023967331663, unit=nanometer)"
      ]
     },
     "execution_count": 22,
     "metadata": {},
     "output_type": "execute_result"
    }
   ],
   "source": [
    "molecular_system.get_standard_deviation(300.0*unit.kelvin)"
   ]
  }
 ],
 "metadata": {
  "kernelspec": {
   "display_name": "Python 3 (ipykernel)",
   "language": "python",
   "name": "python3"
  },
  "language_info": {
   "codemirror_mode": {
    "name": "ipython",
    "version": 3
   },
   "file_extension": ".py",
   "mimetype": "text/x-python",
   "name": "python",
   "nbconvert_exporter": "python",
   "pygments_lexer": "ipython3",
   "version": "3.7.12"
  }
 },
 "nbformat": 4,
 "nbformat_minor": 5
}
