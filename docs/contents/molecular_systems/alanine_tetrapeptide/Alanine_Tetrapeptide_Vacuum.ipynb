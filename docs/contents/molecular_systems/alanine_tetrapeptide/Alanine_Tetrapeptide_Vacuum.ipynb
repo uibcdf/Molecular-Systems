{
 "cells": [
  {
   "cell_type": "code",
   "execution_count": 1,
   "metadata": {},
   "outputs": [],
   "source": [
    "%load_ext autoreload\n",
    "%autoreload 2"
   ]
  },
  {
   "cell_type": "code",
   "execution_count": 2,
   "metadata": {},
   "outputs": [
    {
     "data": {
      "application/vnd.jupyter.widget-view+json": {
       "model_id": "ad7d75568d7f4dfba3c25a76dd44b54d",
       "version_major": 2,
       "version_minor": 0
      },
      "text/plain": []
     },
     "metadata": {},
     "output_type": "display_data"
    }
   ],
   "source": [
    "import numpy as np\n",
    "import matplotlib.pyplot as plt\n",
    "from simtk import unit\n",
    "from simtk import openmm as omm\n",
    "from simtk.openmm import app\n",
    "import molsysmt as msm\n",
    "from tqdm import tqdm"
   ]
  },
  {
   "cell_type": "markdown",
   "metadata": {},
   "source": [
    "# Alanine tetrapeptide in vacuum\n",
    "\n",
    "## With OpenMM from scratch"
   ]
  },
  {
   "cell_type": "code",
   "execution_count": null,
   "metadata": {},
   "outputs": [],
   "source": [
    "from molecular_systems import files\n",
    "pdbfile_path = files.alanine_tetrapeptide['vacuum.pdb']"
   ]
  },
  {
   "cell_type": "code",
   "execution_count": null,
   "metadata": {},
   "outputs": [],
   "source": [
    "view = msm.view(pdbfile_path)\n",
    "view"
   ]
  },
  {
   "cell_type": "code",
   "execution_count": null,
   "metadata": {},
   "outputs": [],
   "source": [
    "temperature = 300.0*unit.kelvin\n",
    "collisions_rate = 1.0/unit.picoseconds\n",
    "total_time = 0.20*unit.nanoseconds\n",
    "saving_timestep = 1.0*unit.picoseconds\n",
    "integration_timestep = 2.0*unit.femtoseconds\n",
    "\n",
    "steps_per_cicle = round(saving_timestep/integration_timestep)\n",
    "n_steps = round(total_time/integration_timestep)\n",
    "n_cicles = round(n_steps/steps_per_cicle)\n",
    "\n",
    "pdbfile = app.PDBFile(pdbfile_path)\n",
    "\n",
    "topology = pdbfile.topology\n",
    "positions = pdbfile.positions\n",
    "\n",
    "forcefield = app.ForceField('amber14/protein.ff14SB.xml')\n",
    "\n",
    "system = forcefield.createSystem(topology, nonbondedMethod=app.NoCutoff, constraints=app.HBonds)\n",
    "\n",
    "integrator = omm.LangevinIntegrator(temperature, collisions_rate, integration_timestep)\n",
    "integrator.setConstraintTolerance(0.00001)\n",
    "\n",
    "platform = omm.Platform.getPlatformByName('CUDA')\n",
    "simulation_properties = {}\n",
    "simulation_properties['CudaPrecision']='mixed'\n",
    "\n",
    "# Context.\n",
    "\n",
    "context = omm.Context(system, integrator, platform, simulation_properties)\n",
    "context.setPositions(positions)\n",
    "\n",
    "# Energy Minimization\n",
    "omm.LocalEnergyMinimizer_minimize(context)\n",
    "\n",
    "# Initial velocities\n",
    "n_atoms = topology.getNumAtoms()\n",
    "velocities = np.zeros([n_atoms, 3], np.float32) * unit.nanometers/unit.picosecond\n",
    "context.setVelocities(velocities)\n",
    "\n",
    "# Reporter arrays: time, position, velocity, kinetic_energy, potential_energy\n",
    "\n",
    "time = np.zeros([n_cicles], np.float32) * unit.picoseconds\n",
    "trajectory = np.zeros([n_cicles, n_atoms, 3], np.float32) * unit.nanometers\n",
    "velocity = np.zeros([n_cicles, n_atoms, 3], np.float32) * unit.nanometers/unit.picosecond\n",
    "kinetic_energy = np.zeros([n_cicles], np.float32) * unit.kilocalories_per_mole\n",
    "potential_energy = np.zeros([n_cicles], np.float32) * unit.kilocalories_per_mole\n",
    "\n",
    "# Initial context in reporters\n",
    "\n",
    "state = context.getState(getPositions=True, getVelocities=True, getEnergy=True)\n",
    "time[0] = state.getTime()\n",
    "trajectory[0] = state.getPositions()\n",
    "velocity[0] = state.getVelocities()\n",
    "kinetic_energy[0] = state.getKineticEnergy()\n",
    "potential_energy[0] = state.getPotentialEnergy()\n",
    "\n",
    "# Integration loop saving every cicle steps\n",
    "\n",
    "for ii in tqdm(range(1, n_cicles)):\n",
    "    context.getIntegrator().step(steps_per_cicle)\n",
    "    state = context.getState(getPositions=True, getVelocities=True, getEnergy=True)\n",
    "    time[ii] = state.getTime()\n",
    "    trajectory[ii] = state.getPositions()\n",
    "    velocity[ii] = state.getVelocities()\n",
    "    kinetic_energy[ii] = state.getKineticEnergy()\n",
    "    potential_energy[ii] = state.getPotentialEnergy()"
   ]
  },
  {
   "cell_type": "code",
   "execution_count": null,
   "metadata": {},
   "outputs": [],
   "source": [
    "msm.view([topology, trajectory])"
   ]
  },
  {
   "cell_type": "code",
   "execution_count": null,
   "metadata": {},
   "outputs": [],
   "source": [
    "plt.plot(time, potential_energy)\n",
    "plt.show()"
   ]
  },
  {
   "cell_type": "code",
   "execution_count": null,
   "metadata": {},
   "outputs": [],
   "source": [
    "phi_chains, psi_chains, phi_values, psi_values = msm.ramachandran_angles([topology, trajectory])"
   ]
  },
  {
   "cell_type": "code",
   "execution_count": null,
   "metadata": {},
   "outputs": [],
   "source": [
    "plt.scatter(phi_values[:,0], psi_values[:,0])"
   ]
  },
  {
   "cell_type": "code",
   "execution_count": null,
   "metadata": {},
   "outputs": [],
   "source": [
    "coordinates = msm.get([topology, trajectory], target='atom',\n",
    "                      selection='group_name==\"ACE\" and atom_name==\"CH3\"',\n",
    "                      frame_indices='all', coordinates=True)"
   ]
  },
  {
   "cell_type": "code",
   "execution_count": null,
   "metadata": {},
   "outputs": [],
   "source": [
    "msm.distance([topology, trajectory],\n",
    "             selection_1='group_name==\"ACE\" and atom_name==\"CH3\"',\n",
    "             selection_2='group_name==\"NME\" and atom_name==\"C\"')"
   ]
  },
  {
   "cell_type": "markdown",
   "metadata": {},
   "source": [
    "## With MolSysMT "
   ]
  },
  {
   "cell_type": "markdown",
   "metadata": {},
   "source": [
    "## With this library"
   ]
  },
  {
   "cell_type": "code",
   "execution_count": null,
   "metadata": {},
   "outputs": [],
   "source": [
    "from molecular_systems import AlanineDipeptideVacuum\n",
    "from molecular_systems.tools.md import langevin_NVT"
   ]
  },
  {
   "cell_type": "code",
   "execution_count": null,
   "metadata": {},
   "outputs": [],
   "source": [
    "dialanine=AlanineDipeptideVacuum(forcefield='AMBER14')\n",
    "\n",
    "time, trajectory, velocity, kin_energy, pot_energy = langevin_NVT (dialanine,\n",
    "                                                                   temperature = 300 * unit.kelvin,\n",
    "                                                                   friction = 1.0 / unit.picoseconds,\n",
    "                                                                   initial_positions = dialanine.coordinates,\n",
    "                                                                   integration_timestep = 2 * unit.femtoseconds,\n",
    "                                                                   saving_timestep = 1.0 * unit.picoseconds,\n",
    "                                                                   total_time = 2.0 * unit.nanoseconds)"
   ]
  },
  {
   "cell_type": "code",
   "execution_count": null,
   "metadata": {},
   "outputs": [],
   "source": [
    "plt.plot(time, pot_energy)\n",
    "plt.show()"
   ]
  },
  {
   "cell_type": "code",
   "execution_count": null,
   "metadata": {},
   "outputs": [],
   "source": [
    "_, _, phi_values, psi_values = msm.ramachandran_angles([dialanine.topology, trajectory])"
   ]
  },
  {
   "cell_type": "code",
   "execution_count": null,
   "metadata": {},
   "outputs": [],
   "source": [
    "plt.scatter(phi_values, psi_values)"
   ]
  },
  {
   "cell_type": "markdown",
   "metadata": {},
   "source": [
    "## With OpenExplorer"
   ]
  },
  {
   "cell_type": "code",
   "execution_count": null,
   "metadata": {},
   "outputs": [],
   "source": []
  }
 ],
 "metadata": {
  "kernelspec": {
   "display_name": "Python 3",
   "language": "python",
   "name": "python3"
  },
  "language_info": {
   "codemirror_mode": {
    "name": "ipython",
    "version": 3
   },
   "file_extension": ".py",
   "mimetype": "text/x-python",
   "name": "python",
   "nbconvert_exporter": "python",
   "pygments_lexer": "ipython3",
   "version": "3.7.9"
  }
 },
 "nbformat": 4,
 "nbformat_minor": 4
}
