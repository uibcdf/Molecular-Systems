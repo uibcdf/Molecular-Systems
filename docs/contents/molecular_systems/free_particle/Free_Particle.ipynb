{
 "cells": [
  {
   "cell_type": "code",
   "execution_count": 1,
   "metadata": {},
   "outputs": [],
   "source": [
    "import numpy as np\n",
    "import matplotlib.pyplot as plt"
   ]
  },
  {
   "cell_type": "markdown",
   "metadata": {},
   "source": [
    "# Free Particle\n",
    "\n",
    "The free particle is characterized for having no external potential goberning its motion. In the case of temperature and friction abscence the particle is moving in a uniform rectilineous trajectory. And when temperature and friction are present, we have nothing but a stochastic brownian particle or random walker characterized by magnitudes as diffusion."
   ]
  },
  {
   "cell_type": "markdown",
   "metadata": {},
   "source": [
    "## With this library\n",
    "\n",
    "The python class representing this test system is fully documented in [FreeParticle class API](../api/_autosummary/uibcdf_test_systems.FreeParticle.html). Let's see an example of how to interact with it:"
   ]
  },
  {
   "cell_type": "code",
   "execution_count": 2,
   "metadata": {},
   "outputs": [],
   "source": [
    "from uibcdf_systems import FreeParticle\n",
    "\n",
    "molecular_system = FreeParticle(n_particles=1, mass='64.0 amu')"
   ]
  },
  {
   "cell_type": "code",
   "execution_count": 4,
   "metadata": {},
   "outputs": [
    {
     "data": {
      "text/plain": [
       "{'n_particles': 1, 'mass': Quantity(value=64.0, unit=dalton), 'pbc': False}"
      ]
     },
     "execution_count": 4,
     "metadata": {},
     "output_type": "execute_result"
    }
   ],
   "source": [
    "molecular_system.parameters"
   ]
  },
  {
   "cell_type": "code",
   "execution_count": 5,
   "metadata": {},
   "outputs": [
    {
     "data": {
      "text/plain": [
       "Quantity(value=array([[0., 0., 0.]], dtype=float32), unit=nanometer)"
      ]
     },
     "execution_count": 5,
     "metadata": {},
     "output_type": "execute_result"
    }
   ],
   "source": [
    "molecular_system.coordinates"
   ]
  },
  {
   "cell_type": "code",
   "execution_count": 6,
   "metadata": {},
   "outputs": [
    {
     "data": {
      "text/plain": [
       "<Topology; 1 chains, 1 residues, 1 atoms, 0 bonds>"
      ]
     },
     "execution_count": 6,
     "metadata": {},
     "output_type": "execute_result"
    }
   ],
   "source": [
    "molecular_system.topology"
   ]
  },
  {
   "cell_type": "code",
   "execution_count": 7,
   "metadata": {},
   "outputs": [
    {
     "data": {
      "text/plain": [
       "<openmm.openmm.System; proxy of <Swig Object of type 'OpenMM::System *' at 0x7fedf4155e10> >"
      ]
     },
     "execution_count": 7,
     "metadata": {},
     "output_type": "execute_result"
    }
   ],
   "source": [
    "molecular_system.system"
   ]
  },
  {
   "cell_type": "markdown",
   "metadata": {},
   "source": [
    "## With OpenMM from scratch\n",
    "\n",
    "```python\n",
    "import openmm as mm\n",
    "import openmm.app as app\n",
    "import openmm.unit as unit\n",
    "import numpy as np\n",
    "\n",
    "# Parameters\n",
    "\n",
    "n_particles = 1\n",
    "mass = 64.0 * unit.amu\n",
    "coordinates = np.zeros([n_particles, 3], np.float32) * unit.nanometers\n",
    "\n",
    "# OpenMM topology\n",
    "\n",
    "topology = app.Topology()\n",
    "\n",
    "dummy_element = app.Element(0, 'DUM', 'DUM', 0.0 * unit.amu)\n",
    "\n",
    "chain = topology.addChain('A')\n",
    "for ii in range(n_particles):\n",
    "    residue = topology.addResidue('DUM', chain)\n",
    "    atom = topology.addAtom(name='DUM', element= dummy_element, residue=residue)\n",
    "    \n",
    "# OpenMM system\n",
    "\n",
    "system = mm.System()\n",
    "\n",
    "for ii in range(n_particles):\n",
    "    system.addParticle(mass)\n",
    "```"
   ]
  }
 ],
 "metadata": {
  "kernelspec": {
   "display_name": "Python 3 (ipykernel)",
   "language": "python",
   "name": "python3"
  },
  "language_info": {
   "codemirror_mode": {
    "name": "ipython",
    "version": 3
   },
   "file_extension": ".py",
   "mimetype": "text/x-python",
   "name": "python",
   "nbconvert_exporter": "python",
   "pygments_lexer": "ipython3",
   "version": "3.7.12"
  }
 },
 "nbformat": 4,
 "nbformat_minor": 4
}
